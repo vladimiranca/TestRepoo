{
 "cells": [
  {
   "cell_type": "markdown",
   "id": "d9442ec6-97db-481a-89ce-96c8983855b2",
   "metadata": {},
   "source": [
    "# Data Science Tools and Ecosystem"
   ]
  },
  {
   "cell_type": "markdown",
   "id": "6cf3cc74-be0c-4506-8f7e-fbca02435888",
   "metadata": {},
   "source": [
    "This notebook it´s about, Data Science Tools and Ecosystem."
   ]
  },
  {
   "cell_type": "markdown",
   "id": "0fa48bad-fdc3-4ace-84b4-3c109cec7868",
   "metadata": {},
   "source": [
    "Some of the Language that Data Scientists use are: "
   ]
  },
  {
   "cell_type": "markdown",
   "id": "93ac8b4c-936f-419c-b78c-26ce93b6b2f4",
   "metadata": {},
   "source": [
    "1. Python\n",
    "2. R\n",
    "3. SQL\n",
    "4. Julia\n",
    "5. Scala\n",
    "\n",
    "**Objectives:**\n",
    "\n",
    "- List popular languages for Data Science\n",
    "- List commonly used data science libraries\n",
    "- Create a table of Data Science tools\n",
    "- Introduce arithmetic expressions in Python\n",
    "- Evaluate (3*4)+5"
   ]
  },
  {
   "cell_type": "markdown",
   "id": "fd51b9e1-9499-48f9-ba6d-2c2e0f5a46aa",
   "metadata": {},
   "source": [
    "Some of the commonly used libraries used by Data Scientists include:\n",
    "\n",
    "1. NumPy\n",
    "2. pandas\n",
    "3. Matplotlib\n",
    "4. seaborn\n",
    "5. scikit-learn"
   ]
  },
  {
   "cell_type": "markdown",
   "id": "94c9686d-f70f-42b5-98cc-1799901c73f7",
   "metadata": {},
   "source": [
    "#markdown cell with a table of Data Science tools\n",
    "| Data Science Tools |\n",
    "| ------------------ |\n",
    "| JupyterLab |\n",
    "| RStudio |\n",
    "| Spyder |"
   ]
  },
  {
   "cell_type": "markdown",
   "id": "8c5ec2d0-35cc-43d6-94fb-ae65d3d956ac",
   "metadata": {},
   "source": [
    "### Below are a few examples of evaluating arithmetic expressions in Python"
   ]
  },
  {
   "cell_type": "code",
   "execution_count": 1,
   "id": "42693d67-1d5a-47b1-b15c-2c5cfa22e625",
   "metadata": {},
   "outputs": [
    {
     "data": {
      "text/plain": [
       "17"
      ]
     },
     "execution_count": 1,
     "metadata": {},
     "output_type": "execute_result"
    }
   ],
   "source": [
    "# This is a simple arithmetic expression to multiply then add integers\n",
    "(3*4)+5"
   ]
  },
  {
   "cell_type": "markdown",
   "id": "1e691072-d946-440a-8625-893251c98f51",
   "metadata": {},
   "source": [
    "## Author:\n",
    "Lakshmi Holla\n",
    "\n",
    "Niveditha Pandith"
   ]
  },
  {
   "cell_type": "code",
   "execution_count": null,
   "id": "60219f71-57fb-475b-82a8-6cfa1dcd4fd6",
   "metadata": {},
   "outputs": [],
   "source": []
  }
 ],
 "metadata": {
  "kernelspec": {
   "display_name": "Python 3 (ipykernel)",
   "language": "python",
   "name": "python3"
  },
  "language_info": {
   "codemirror_mode": {
    "name": "ipython",
    "version": 3
   },
   "file_extension": ".py",
   "mimetype": "text/x-python",
   "name": "python",
   "nbconvert_exporter": "python",
   "pygments_lexer": "ipython3",
   "version": "3.11.13"
  }
 },
 "nbformat": 4,
 "nbformat_minor": 5
}
